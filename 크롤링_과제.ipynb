{
  "nbformat": 4,
  "nbformat_minor": 0,
  "metadata": {
    "colab": {
      "provenance": [],
      "authorship_tag": "ABX9TyPY0ctUnpzizjhTfPEEGeEU",
      "include_colab_link": true
    },
    "kernelspec": {
      "name": "python3",
      "display_name": "Python 3"
    },
    "language_info": {
      "name": "python"
    }
  },
  "cells": [
    {
      "cell_type": "markdown",
      "metadata": {
        "id": "view-in-github",
        "colab_type": "text"
      },
      "source": [
        "<a href=\"https://colab.research.google.com/github/junyealim/Homework/blob/main/%ED%81%AC%EB%A1%A4%EB%A7%81_%EA%B3%BC%EC%A0%9C.ipynb\" target=\"_parent\"><img src=\"https://colab.research.google.com/assets/colab-badge.svg\" alt=\"Open In Colab\"/></a>"
      ]
    },
    {
      "cell_type": "code",
      "execution_count": 1,
      "metadata": {
        "id": "8xjDmxKea8nR"
      },
      "outputs": [],
      "source": [
        "# https://www.genie.co.kr/chart/top200?ditc=D&ymd=20231122&hh=14&rtm=Y&pg=1\n",
        "# https://www.genie.co.kr/chart/top200?ditc=D&ymd=20231122&hh=14&rtm=Y&pg=4\n",
        "\n",
        "# Mozilla/5.0 (Windows NT 10.0; Win64; x64) AppleWebKit/537.36 (KHTML, like Gecko) Chrome/119.0.0.0 Safari/537.36"
      ]
    },
    {
      "cell_type": "code",
      "source": [
        "import requests\n",
        "from bs4 import BeautifulSoup\n",
        "import pandas as pd\n",
        "\n",
        "def music(num):\n",
        "    rank = []\n",
        "    for i in range(1, num+1):\n",
        "        url = f'https://www.genie.co.kr/chart/top200?ditc=D&ymd=20231122&hh=14&rtm=Y&pg={num}'\n",
        "        header = {'User-Agent': 'Mozilla/5.0 (Windows NT 10.0; Win64; x64)'}\n",
        "        request = requests.get(url, headers = header)\n",
        "        soup = BeautifulSoup(request.text)\n",
        "        td = soup.findAll('td',{'class':'info'})\n",
        "        for j in td:\n",
        "            title = j.find('a',{'class':'title'})\n",
        "            artist = j.find('a',{'class':'artist'})\n",
        "            rank.append([artist.text.strip(), title.text.strip()])\n",
        "    return rank"
      ],
      "metadata": {
        "id": "Q2Kn0IYJbDu3"
      },
      "execution_count": 64,
      "outputs": []
    },
    {
      "cell_type": "code",
      "source": [
        "print(music(4))"
      ],
      "metadata": {
        "colab": {
          "base_uri": "https://localhost:8080/"
        },
        "id": "j4uTXAWKoHGl",
        "outputId": "463b899e-b12d-45f0-8805-389b647c4772"
      },
      "execution_count": 68,
      "outputs": [
        {
          "output_type": "stream",
          "name": "stdout",
          "text": [
            "[['아이유 (IU)', 'Blueming'], ['디핵 (D-Hack) & PATEKO', 'OHAYO MY NIGHT'], [\"BE'O (비오)\", 'LOVE me'], ['정국', 'Yes or No'], ['Kelly Clarkson', \"Stronger (What Doesn't Kill You)\"], ['Crush', '흠칫 (Hmm-cheat)'], ['마크툽 (Maktub)', '찰나가 영원이 될 때 (The Eternal Moment)'], ['AKMU (악뮤)', '낙하 (With 아이유)'], ['에픽하이 (EPIK HIGH)', 'Screen Time (Feat. Hoshi of SEVENTEEN)'], ['FIFTY FIFTY', 'Cupid'], ['다비치', '매일 크리스마스 (Everyday Christmas)'], ['멜로망스 (MeloMance)', '고백'], ['박은빈', 'Someday'], ['지아 (Zia)', '사랑하기 싫어'], ['임재현', 'Heaven (2023)'], ['조이 (JOY)', '안녕 (Hello)'], ['Sam Smith & Kim Petras', 'Unholy'], ['Charlie Puth & 정국 & 방탄소년단', 'Left and Right (Feat. Jung Kook of BTS)'], ['aespa', 'Dreams Come True'], ['강민경 (다비치) & 잔나비 최정훈', '우린 그렇게 사랑해서'], ['던 (DAWN)', '빛이 나는 너에게'], ['Maroon 5', 'Memories'], ['릴러말즈 (Leellamarz)', '거리에서 (Feat. ASH ISLAND)'], ['임한별', '떠나보낼 준비해 둘걸 그랬어'], ['브라운 아이즈', '벌써 일년'], ['Zior Park', 'CHRISTIAN'], ['다비치', '팡파레'], ['Charlie Puth', \"That's Not How This Works (Feat. Dan ＋ Shay)\"], ['릴러말즈 (Leellamarz)', 'Trip (Feat. Hannah)'], ['etham', '12 : 45 (Stripped)'], ['NewJeans', 'Cookie'], ['aespa', 'Next Level'], ['Zac Efron & Zendaya', 'Rewrite The Stars'], ['다이나믹 듀오 & 디제이 프리미어', 'AEAO'], ['IVE (아이브)', 'I WANT'], ['우효', '민들레 (single ver.)'], ['이영지', 'NOT SORRY (Feat. pH-1) (Prod. by Slom)'], ['숀 (SHAUN)', 'Way Back Home'], ['윈터 (WINTER)', '항해'], ['이무진', '눈이 오잖아 (Feat. 헤이즈)'], ['아이유 (IU)', '에잇 (Prod. & Feat. SUGA of BTS)'], ['폴킴', '있잖아'], ['정승환', '눈사람'], ['Standing Egg (스탠딩 에그)', '오래된 노래'], ['조이 (JOY)', \"Je T'aime\"], ['태연 (TAEYEON)', 'INVU'], ['Sondia', '어른'], ['Charlie Puth', 'One Call Away'], ['김승민', '내 기쁨은 너가 벤틀리를 끄는 거야'], ['김호중 & 송가인', '당신을 만나'], ['아이유 (IU)', 'Blueming'], ['디핵 (D-Hack) & PATEKO', 'OHAYO MY NIGHT'], [\"BE'O (비오)\", 'LOVE me'], ['정국', 'Yes or No'], ['Kelly Clarkson', \"Stronger (What Doesn't Kill You)\"], ['Crush', '흠칫 (Hmm-cheat)'], ['마크툽 (Maktub)', '찰나가 영원이 될 때 (The Eternal Moment)'], ['AKMU (악뮤)', '낙하 (With 아이유)'], ['에픽하이 (EPIK HIGH)', 'Screen Time (Feat. Hoshi of SEVENTEEN)'], ['FIFTY FIFTY', 'Cupid'], ['다비치', '매일 크리스마스 (Everyday Christmas)'], ['멜로망스 (MeloMance)', '고백'], ['박은빈', 'Someday'], ['지아 (Zia)', '사랑하기 싫어'], ['임재현', 'Heaven (2023)'], ['조이 (JOY)', '안녕 (Hello)'], ['Sam Smith & Kim Petras', 'Unholy'], ['Charlie Puth & 정국 & 방탄소년단', 'Left and Right (Feat. Jung Kook of BTS)'], ['aespa', 'Dreams Come True'], ['강민경 (다비치) & 잔나비 최정훈', '우린 그렇게 사랑해서'], ['던 (DAWN)', '빛이 나는 너에게'], ['Maroon 5', 'Memories'], ['릴러말즈 (Leellamarz)', '거리에서 (Feat. ASH ISLAND)'], ['임한별', '떠나보낼 준비해 둘걸 그랬어'], ['브라운 아이즈', '벌써 일년'], ['Zior Park', 'CHRISTIAN'], ['다비치', '팡파레'], ['Charlie Puth', \"That's Not How This Works (Feat. Dan ＋ Shay)\"], ['릴러말즈 (Leellamarz)', 'Trip (Feat. Hannah)'], ['etham', '12 : 45 (Stripped)'], ['NewJeans', 'Cookie'], ['aespa', 'Next Level'], ['Zac Efron & Zendaya', 'Rewrite The Stars'], ['다이나믹 듀오 & 디제이 프리미어', 'AEAO'], ['IVE (아이브)', 'I WANT'], ['우효', '민들레 (single ver.)'], ['이영지', 'NOT SORRY (Feat. pH-1) (Prod. by Slom)'], ['숀 (SHAUN)', 'Way Back Home'], ['윈터 (WINTER)', '항해'], ['이무진', '눈이 오잖아 (Feat. 헤이즈)'], ['아이유 (IU)', '에잇 (Prod. & Feat. SUGA of BTS)'], ['폴킴', '있잖아'], ['정승환', '눈사람'], ['Standing Egg (스탠딩 에그)', '오래된 노래'], ['조이 (JOY)', \"Je T'aime\"], ['태연 (TAEYEON)', 'INVU'], ['Sondia', '어른'], ['Charlie Puth', 'One Call Away'], ['김승민', '내 기쁨은 너가 벤틀리를 끄는 거야'], ['김호중 & 송가인', '당신을 만나'], ['아이유 (IU)', 'Blueming'], ['디핵 (D-Hack) & PATEKO', 'OHAYO MY NIGHT'], [\"BE'O (비오)\", 'LOVE me'], ['정국', 'Yes or No'], ['Kelly Clarkson', \"Stronger (What Doesn't Kill You)\"], ['Crush', '흠칫 (Hmm-cheat)'], ['마크툽 (Maktub)', '찰나가 영원이 될 때 (The Eternal Moment)'], ['AKMU (악뮤)', '낙하 (With 아이유)'], ['에픽하이 (EPIK HIGH)', 'Screen Time (Feat. Hoshi of SEVENTEEN)'], ['FIFTY FIFTY', 'Cupid'], ['다비치', '매일 크리스마스 (Everyday Christmas)'], ['멜로망스 (MeloMance)', '고백'], ['박은빈', 'Someday'], ['지아 (Zia)', '사랑하기 싫어'], ['임재현', 'Heaven (2023)'], ['조이 (JOY)', '안녕 (Hello)'], ['Sam Smith & Kim Petras', 'Unholy'], ['Charlie Puth & 정국 & 방탄소년단', 'Left and Right (Feat. Jung Kook of BTS)'], ['aespa', 'Dreams Come True'], ['강민경 (다비치) & 잔나비 최정훈', '우린 그렇게 사랑해서'], ['던 (DAWN)', '빛이 나는 너에게'], ['Maroon 5', 'Memories'], ['릴러말즈 (Leellamarz)', '거리에서 (Feat. ASH ISLAND)'], ['임한별', '떠나보낼 준비해 둘걸 그랬어'], ['브라운 아이즈', '벌써 일년'], ['Zior Park', 'CHRISTIAN'], ['다비치', '팡파레'], ['Charlie Puth', \"That's Not How This Works (Feat. Dan ＋ Shay)\"], ['릴러말즈 (Leellamarz)', 'Trip (Feat. Hannah)'], ['etham', '12 : 45 (Stripped)'], ['NewJeans', 'Cookie'], ['aespa', 'Next Level'], ['Zac Efron & Zendaya', 'Rewrite The Stars'], ['다이나믹 듀오 & 디제이 프리미어', 'AEAO'], ['IVE (아이브)', 'I WANT'], ['우효', '민들레 (single ver.)'], ['이영지', 'NOT SORRY (Feat. pH-1) (Prod. by Slom)'], ['숀 (SHAUN)', 'Way Back Home'], ['윈터 (WINTER)', '항해'], ['이무진', '눈이 오잖아 (Feat. 헤이즈)'], ['아이유 (IU)', '에잇 (Prod. & Feat. SUGA of BTS)'], ['폴킴', '있잖아'], ['정승환', '눈사람'], ['Standing Egg (스탠딩 에그)', '오래된 노래'], ['조이 (JOY)', \"Je T'aime\"], ['태연 (TAEYEON)', 'INVU'], ['Sondia', '어른'], ['Charlie Puth', 'One Call Away'], ['김승민', '내 기쁨은 너가 벤틀리를 끄는 거야'], ['김호중 & 송가인', '당신을 만나'], ['아이유 (IU)', 'Blueming'], ['디핵 (D-Hack) & PATEKO', 'OHAYO MY NIGHT'], [\"BE'O (비오)\", 'LOVE me'], ['정국', 'Yes or No'], ['Kelly Clarkson', \"Stronger (What Doesn't Kill You)\"], ['Crush', '흠칫 (Hmm-cheat)'], ['마크툽 (Maktub)', '찰나가 영원이 될 때 (The Eternal Moment)'], ['AKMU (악뮤)', '낙하 (With 아이유)'], ['에픽하이 (EPIK HIGH)', 'Screen Time (Feat. Hoshi of SEVENTEEN)'], ['FIFTY FIFTY', 'Cupid'], ['다비치', '매일 크리스마스 (Everyday Christmas)'], ['멜로망스 (MeloMance)', '고백'], ['박은빈', 'Someday'], ['지아 (Zia)', '사랑하기 싫어'], ['임재현', 'Heaven (2023)'], ['조이 (JOY)', '안녕 (Hello)'], ['Sam Smith & Kim Petras', 'Unholy'], ['Charlie Puth & 정국 & 방탄소년단', 'Left and Right (Feat. Jung Kook of BTS)'], ['aespa', 'Dreams Come True'], ['강민경 (다비치) & 잔나비 최정훈', '우린 그렇게 사랑해서'], ['던 (DAWN)', '빛이 나는 너에게'], ['Maroon 5', 'Memories'], ['릴러말즈 (Leellamarz)', '거리에서 (Feat. ASH ISLAND)'], ['임한별', '떠나보낼 준비해 둘걸 그랬어'], ['브라운 아이즈', '벌써 일년'], ['Zior Park', 'CHRISTIAN'], ['다비치', '팡파레'], ['Charlie Puth', \"That's Not How This Works (Feat. Dan ＋ Shay)\"], ['릴러말즈 (Leellamarz)', 'Trip (Feat. Hannah)'], ['etham', '12 : 45 (Stripped)'], ['NewJeans', 'Cookie'], ['aespa', 'Next Level'], ['Zac Efron & Zendaya', 'Rewrite The Stars'], ['다이나믹 듀오 & 디제이 프리미어', 'AEAO'], ['IVE (아이브)', 'I WANT'], ['우효', '민들레 (single ver.)'], ['이영지', 'NOT SORRY (Feat. pH-1) (Prod. by Slom)'], ['숀 (SHAUN)', 'Way Back Home'], ['윈터 (WINTER)', '항해'], ['이무진', '눈이 오잖아 (Feat. 헤이즈)'], ['아이유 (IU)', '에잇 (Prod. & Feat. SUGA of BTS)'], ['폴킴', '있잖아'], ['정승환', '눈사람'], ['Standing Egg (스탠딩 에그)', '오래된 노래'], ['조이 (JOY)', \"Je T'aime\"], ['태연 (TAEYEON)', 'INVU'], ['Sondia', '어른'], ['Charlie Puth', 'One Call Away'], ['김승민', '내 기쁨은 너가 벤틀리를 끄는 거야'], ['김호중 & 송가인', '당신을 만나']]\n"
          ]
        }
      ]
    },
    {
      "cell_type": "code",
      "source": [
        "df = pd.DataFrame(music(4), index = range(1, len(music(4))+1))\n",
        "df.to_excel('music.xlsx')"
      ],
      "metadata": {
        "id": "pJYopkThcSgH"
      },
      "execution_count": 71,
      "outputs": []
    },
    {
      "cell_type": "code",
      "source": [],
      "metadata": {
        "id": "Q0Pn3welcXOb"
      },
      "execution_count": null,
      "outputs": []
    }
  ]
}